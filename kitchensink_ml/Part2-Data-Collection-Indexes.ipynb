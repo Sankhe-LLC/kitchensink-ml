{
 "cells": [
  {
   "cell_type": "markdown",
   "metadata": {},
   "source": [
    "<img alt=\"QuantRocket logo\" src=\"https://www.quantrocket.com/assets/img/notebook-header-logo.png\">\n",
    "\n",
    "<a href=\"https://www.quantrocket.com/disclaimer/\">Disclaimer</a>"
   ]
  },
  {
   "cell_type": "markdown",
   "metadata": {},
   "source": [
    "# Data Collection - Indexes\n",
    "\n",
    "Though most of our features will come from the Sharadar price and fundamental data, we also wish to add some additional features that reflect the broad market. Specifically, we will include features relating to the S&P 500, the VIX, and the NYSE TRIN (aka Arms Index, a breadth measure). "
   ]
  },
  {
   "cell_type": "markdown",
   "metadata": {},
   "source": [
    "First, start IB Gateway:"
   ]
  },
  {
   "cell_type": "code",
   "execution_count": 1,
   "metadata": {},
   "outputs": [
    {
     "data": {
      "text/plain": [
       "{'ibg1': {'status': 'running'}}"
      ]
     },
     "execution_count": 1,
     "metadata": {},
     "output_type": "execute_result"
    }
   ],
   "source": [
    "from quantrocket.launchpad import start_gateways\n",
    "start_gateways(wait=True)"
   ]
  },
  {
   "cell_type": "markdown",
   "metadata": {},
   "source": [
    "## Collect listings\n",
    "\n",
    "Next we collect the listings from IB. (For the S&P 500, we collect the SPY ETF because IB provides deeper history for SPY@ARCA than SPX@CBOE.)"
   ]
  },
  {
   "cell_type": "code",
   "execution_count": 2,
   "metadata": {},
   "outputs": [
    {
     "data": {
      "text/plain": [
       "{'status': 'the listing details will be collected asynchronously'}"
      ]
     },
     "execution_count": 2,
     "metadata": {},
     "output_type": "execute_result"
    }
   ],
   "source": [
    "from quantrocket.master import collect_listings\n",
    "collect_listings(exchanges=\"ARCA\", symbols=\"SPY\", sec_types=\"ETF\")\n",
    "collect_listings(exchanges=\"CBOE\", symbols=\"VIX\", sec_types=\"IND\")\n",
    "collect_listings(exchanges=\"NYSE\", symbols=\"TRIN-NYSE\", sec_types=\"IND\")"
   ]
  },
  {
   "cell_type": "markdown",
   "metadata": {},
   "source": [
    "Monitor flightlog for the completion messages:\n",
    "\n",
    "```\n",
    "quantrocket.master: INFO Collecting ARCA ETF listings from IB website (SPY only)\n",
    "quantrocket.master: INFO Requesting details for 1 ARCA listings found on IB website\n",
    "quantrocket.master: INFO Saved 1 ARCA listings to securities master database\n",
    "quantrocket.master: INFO Collecting CBOE IND listings from IB website (VIX only)\n",
    "quantrocket.master: INFO Requesting details for 1 CBOE listings found on IB website\n",
    "quantrocket.master: INFO Saved 1 CBOE listings to securities master database\n",
    "quantrocket.master: INFO Collecting NYSE IND listings from IB website (TRIN-NYSE only)\n",
    "quantrocket.master: INFO Requesting details for 1 NYSE listings found on IB website\n",
    "quantrocket.master: INFO Saved 1 NYSE listings to securities master database\n",
    "```"
   ]
  },
  {
   "cell_type": "markdown",
   "metadata": {},
   "source": [
    "## Lookup ConIds\n",
    "\n",
    "Look up the ConIds for the various instruments:"
   ]
  },
  {
   "cell_type": "code",
   "execution_count": 3,
   "metadata": {},
   "outputs": [],
   "source": [
    "from quantrocket.master import download_master_file\n",
    "download_master_file(\"indices.csv\", exchanges=[\"CBOE\", \"NYSE\", \"ARCA\"], symbols=[\"SPY\", \"VIX\", \"TRIN-NYSE\"], sec_types=[\"IND\",\"ETF\"])"
   ]
  },
  {
   "cell_type": "code",
   "execution_count": 4,
   "metadata": {},
   "outputs": [
    {
     "data": {
      "text/html": [
       "<div>\n",
       "<style scoped>\n",
       "    .dataframe tbody tr th:only-of-type {\n",
       "        vertical-align: middle;\n",
       "    }\n",
       "\n",
       "    .dataframe tbody tr th {\n",
       "        vertical-align: top;\n",
       "    }\n",
       "\n",
       "    .dataframe thead th {\n",
       "        text-align: right;\n",
       "    }\n",
       "</style>\n",
       "<table border=\"1\" class=\"dataframe\">\n",
       "  <thead>\n",
       "    <tr style=\"text-align: right;\">\n",
       "      <th></th>\n",
       "      <th>ConId</th>\n",
       "      <th>Symbol</th>\n",
       "      <th>LongName</th>\n",
       "      <th>PrimaryExchange</th>\n",
       "    </tr>\n",
       "  </thead>\n",
       "  <tbody>\n",
       "    <tr>\n",
       "      <th>0</th>\n",
       "      <td>756733</td>\n",
       "      <td>SPY</td>\n",
       "      <td>SPDR S&amp;P 500 ETF TRUST</td>\n",
       "      <td>ARCA</td>\n",
       "    </tr>\n",
       "    <tr>\n",
       "      <th>1</th>\n",
       "      <td>13455763</td>\n",
       "      <td>VIX</td>\n",
       "      <td>CBOE Volatility Index</td>\n",
       "      <td>CBOE</td>\n",
       "    </tr>\n",
       "    <tr>\n",
       "      <th>2</th>\n",
       "      <td>26718743</td>\n",
       "      <td>TRIN-NYSE</td>\n",
       "      <td>NYSE TRIN (OR ARMS) INDEX</td>\n",
       "      <td>NYSE</td>\n",
       "    </tr>\n",
       "  </tbody>\n",
       "</table>\n",
       "</div>"
      ],
      "text/plain": [
       "      ConId     Symbol                   LongName PrimaryExchange\n",
       "0    756733        SPY     SPDR S&P 500 ETF TRUST            ARCA\n",
       "1  13455763        VIX      CBOE Volatility Index            CBOE\n",
       "2  26718743  TRIN-NYSE  NYSE TRIN (OR ARMS) INDEX            NYSE"
      ]
     },
     "execution_count": 4,
     "metadata": {},
     "output_type": "execute_result"
    }
   ],
   "source": [
    "import pandas as pd\n",
    "indices = pd.read_csv(\"indices.csv\")\n",
    "\n",
    "indices[[\"ConId\", \"Symbol\", \"LongName\", \"PrimaryExchange\"]]"
   ]
  },
  {
   "cell_type": "markdown",
   "metadata": {},
   "source": [
    "## Collect historical data\n",
    "\n",
    "Next, we create a database for collecting 1-day bars for the indexes:"
   ]
  },
  {
   "cell_type": "code",
   "execution_count": 5,
   "metadata": {},
   "outputs": [
    {
     "data": {
      "text/plain": [
       "{'status': 'successfully created quantrocket.history.market-1d.sqlite'}"
      ]
     },
     "execution_count": 5,
     "metadata": {},
     "output_type": "execute_result"
    }
   ],
   "source": [
    "from quantrocket.history import create_db\n",
    "create_db(\"market-1d\", \n",
    "          conids=[\n",
    "              756733,\n",
    "              13455763, \n",
    "              26718743,\n",
    "          ], \n",
    "          bar_size=\"1 day\")"
   ]
  },
  {
   "cell_type": "markdown",
   "metadata": {},
   "source": [
    "Then collect the data:"
   ]
  },
  {
   "cell_type": "code",
   "execution_count": 6,
   "metadata": {},
   "outputs": [
    {
     "data": {
      "text/plain": [
       "{'status': 'the historical data will be collected asynchronously'}"
      ]
     },
     "execution_count": 6,
     "metadata": {},
     "output_type": "execute_result"
    }
   ],
   "source": [
    "from quantrocket.history import collect_history\n",
    "collect_history(\"market-1d\")"
   ]
  },
  {
   "cell_type": "markdown",
   "metadata": {},
   "source": [
    "Monitor flightlog for completion:\n",
    "\n",
    "```\n",
    "quantrocket.history: INFO [market-1d] Collecting history from IB for 3 securities in market-1d\n",
    "quantrocket.history: INFO [market-1d] Saved 13302 total records for 3 total securities to quantrocket.history.market-1d.sqlite\n",
    "```"
   ]
  },
  {
   "cell_type": "markdown",
   "metadata": {},
   "source": [
    "***\n",
    "\n",
    "## *Next Up*\n",
    "\n",
    "Part 3: [Moonshot Strategy Code](Part3-Moonshot-Strategy-Code.ipynb)"
   ]
  }
 ],
 "metadata": {
  "kernelspec": {
   "display_name": "Python 3",
   "language": "python",
   "name": "python3"
  },
  "language_info": {
   "codemirror_mode": {
    "name": "ipython",
    "version": 3
   },
   "file_extension": ".py",
   "mimetype": "text/x-python",
   "name": "python",
   "nbconvert_exporter": "python",
   "pygments_lexer": "ipython3",
   "version": "3.6.6"
  }
 },
 "nbformat": 4,
 "nbformat_minor": 2
}
